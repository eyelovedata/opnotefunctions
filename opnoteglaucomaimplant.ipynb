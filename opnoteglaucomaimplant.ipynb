{
 "cells": [
  {
   "cell_type": "code",
   "execution_count": 1,
   "metadata": {},
   "outputs": [],
   "source": [
    "import re\n",
    "import pandas as pd \n",
    "import numpy as np\n",
    "from IPython.core.interactiveshell import InteractiveShell\n",
    "InteractiveShell.ast_node_interactivity = \"all\""
   ]
  },
  {
   "cell_type": "markdown",
   "metadata": {},
   "source": [
    "# Functions for detecting glaucoma implants from free text operative notes"
   ]
  },
  {
   "cell_type": "code",
   "execution_count": 27,
   "metadata": {},
   "outputs": [],
   "source": [
    "def gddmodelfeatures(text): \n",
    "    if len(re.findall('(?i)Baerveldt', text))>0: \n",
    "        gddtype=\"Baerveldt\"\n",
    "        try: gddmodel=re.findall('(?i)Baerveldt.*?([23]50)', text)[0]\n",
    "        except: gddmodel=None        \n",
    "    elif len(re.findall('(?i)Ahmed', text))>0: \n",
    "        gddtype=\"Ahmed\"\n",
    "        try: gddmodel=re.findall('(?i)Ahmed.*?(FP[7|8]|S[2|3])', text)[0]\n",
    "        except: gddmodel=None\n",
    "    elif len(re.findall('(?i)Molteno', text))>0: \n",
    "        gddtype=\"Molteno\"\n",
    "        try: gddmodel=re.findall('(?i)Molteno.*?([SDMG][1S])', text)[0]\n",
    "        except: gddmodel=None\n",
    "    elif len(re.findall('(?i)iStent', text))>0: \n",
    "        gddtype=\"iStent\"\n",
    "        try: gddmodel=re.findall('(?i)iStent\\s*(inject)', text)[0]\n",
    "        except: gddmodel=None\n",
    "    elif len(re.findall('(?i)CyPass', text))>0: \n",
    "        gddtype=\"CyPass\"\n",
    "        gddmodel=None\n",
    "    elif len(re.findall('(?i)Xen', text))>0: \n",
    "        gddtype=\"Xen\"\n",
    "        gddmodel=None\n",
    "    elif len(re.findall('(?i)(Ex-Press|express(\\s.*)shunt)', text))>0: \n",
    "        gddtype=\"Ex-PRESS\"\n",
    "        gddmodel=None\n",
    "    elif len(re.findall('(?i)Hydrus', text))>0: \n",
    "        gddtype = \"Hydrus\"\n",
    "        gddmodel=None\n",
    "    else: \n",
    "        gddtype=None\n",
    "        gddmodel=None\n",
    "    return (gddtype, gddmodel)\n",
    "\n",
    "#at the time this was initially developed, Hydrus was not yet on the market. Since then the function was updated to include this. \n",
    "#At the time this was initially developed, iStent Inject was not yet on the market. Since then the function was updated to include this. "
   ]
  },
  {
   "cell_type": "markdown",
   "metadata": {},
   "source": [
    "# Examples"
   ]
  },
  {
   "cell_type": "markdown",
   "metadata": {},
   "source": [
    "## Example simple code"
   ]
  },
  {
   "cell_type": "code",
   "execution_count": 29,
   "metadata": {},
   "outputs": [
    {
     "data": {
      "text/plain": [
       "('Ahmed', 'fp7')"
      ]
     },
     "execution_count": 29,
     "metadata": {},
     "output_type": "execute_result"
    },
    {
     "data": {
      "text/plain": [
       "('Ex-PRESS', None)"
      ]
     },
     "execution_count": 29,
     "metadata": {},
     "output_type": "execute_result"
    },
    {
     "data": {
      "text/plain": [
       "(None, None)"
      ]
     },
     "execution_count": 29,
     "metadata": {},
     "output_type": "execute_result"
    },
    {
     "data": {
      "text/plain": [
       "('Hydrus', None)"
      ]
     },
     "execution_count": 29,
     "metadata": {},
     "output_type": "execute_result"
    },
    {
     "data": {
      "text/plain": [
       "('iStent', None)"
      ]
     },
     "execution_count": 29,
     "metadata": {},
     "output_type": "execute_result"
    },
    {
     "data": {
      "text/plain": [
       "('iStent', 'inject')"
      ]
     },
     "execution_count": 29,
     "metadata": {},
     "output_type": "execute_result"
    },
    {
     "data": {
      "text/plain": [
       "('iStent', None)"
      ]
     },
     "execution_count": 29,
     "metadata": {},
     "output_type": "execute_result"
    }
   ],
   "source": [
    "#example simple code for how this works \n",
    "gddmodelfeatures(\"Ahmed fp7\")\n",
    "gddmodelfeatures(\"ex-press minishunt\")\n",
    "gddmodelfeatures(\"expressed minishunt\")\n",
    "gddmodelfeatures(\"Hydrus\")\n",
    "gddmodelfeatures(\"iStent\")\n",
    "gddmodelfeatures(\"iStent inject\")\n",
    "gddmodelfeatures(\"iStent was implanted etc. etc. etc. moxifloxacin was injected\")"
   ]
  },
  {
   "cell_type": "markdown",
   "metadata": {},
   "source": [
    "## Example code for how this might work on a pandas dataframe containing a column of operative reports"
   ]
  },
  {
   "cell_type": "code",
   "execution_count": 33,
   "metadata": {},
   "outputs": [
    {
     "data": {
      "text/html": [
       "<div>\n",
       "<style scoped>\n",
       "    .dataframe tbody tr th:only-of-type {\n",
       "        vertical-align: middle;\n",
       "    }\n",
       "\n",
       "    .dataframe tbody tr th {\n",
       "        vertical-align: top;\n",
       "    }\n",
       "\n",
       "    .dataframe thead th {\n",
       "        text-align: right;\n",
       "    }\n",
       "</style>\n",
       "<table border=\"1\" class=\"dataframe\">\n",
       "  <thead>\n",
       "    <tr style=\"text-align: right;\">\n",
       "      <th></th>\n",
       "      <th>note</th>\n",
       "    </tr>\n",
       "  </thead>\n",
       "  <tbody>\n",
       "    <tr>\n",
       "      <th>0</th>\n",
       "      <td>Ahmed FP7</td>\n",
       "    </tr>\n",
       "    <tr>\n",
       "      <th>1</th>\n",
       "      <td>Baerveldt</td>\n",
       "    </tr>\n",
       "    <tr>\n",
       "      <th>2</th>\n",
       "      <td>Baerveldt 350</td>\n",
       "    </tr>\n",
       "    <tr>\n",
       "      <th>3</th>\n",
       "      <td>Cypass</td>\n",
       "    </tr>\n",
       "    <tr>\n",
       "      <th>4</th>\n",
       "      <td>Express shunt</td>\n",
       "    </tr>\n",
       "    <tr>\n",
       "      <th>5</th>\n",
       "      <td>iStent</td>\n",
       "    </tr>\n",
       "    <tr>\n",
       "      <th>6</th>\n",
       "      <td>Xen</td>\n",
       "    </tr>\n",
       "    <tr>\n",
       "      <th>7</th>\n",
       "      <td>iStent Inject</td>\n",
       "    </tr>\n",
       "    <tr>\n",
       "      <th>8</th>\n",
       "      <td>Hydrus</td>\n",
       "    </tr>\n",
       "  </tbody>\n",
       "</table>\n",
       "</div>"
      ],
      "text/plain": [
       "            note\n",
       "0      Ahmed FP7\n",
       "1      Baerveldt\n",
       "2  Baerveldt 350\n",
       "3         Cypass\n",
       "4  Express shunt\n",
       "5         iStent\n",
       "6            Xen\n",
       "7  iStent Inject\n",
       "8         Hydrus"
      ]
     },
     "execution_count": 33,
     "metadata": {},
     "output_type": "execute_result"
    }
   ],
   "source": [
    "#example code for how this might work on a pandas dataframe containing a column of operative reports \n",
    "df=pd.DataFrame([\"Ahmed FP7\", \"Baerveldt\", \"Baerveldt 350\", \"Cypass\", \"Express shunt\", \"iStent\", \"Xen\", \"iStent Inject\", \"Hydrus\"], columns=[\"note\"])\n",
    "df"
   ]
  },
  {
   "cell_type": "code",
   "execution_count": 34,
   "metadata": {},
   "outputs": [
    {
     "data": {
      "text/html": [
       "<div>\n",
       "<style scoped>\n",
       "    .dataframe tbody tr th:only-of-type {\n",
       "        vertical-align: middle;\n",
       "    }\n",
       "\n",
       "    .dataframe tbody tr th {\n",
       "        vertical-align: top;\n",
       "    }\n",
       "\n",
       "    .dataframe thead th {\n",
       "        text-align: right;\n",
       "    }\n",
       "</style>\n",
       "<table border=\"1\" class=\"dataframe\">\n",
       "  <thead>\n",
       "    <tr style=\"text-align: right;\">\n",
       "      <th></th>\n",
       "      <th>note</th>\n",
       "      <th>gddtype</th>\n",
       "      <th>gddmodel</th>\n",
       "    </tr>\n",
       "  </thead>\n",
       "  <tbody>\n",
       "    <tr>\n",
       "      <th>0</th>\n",
       "      <td>Ahmed FP7</td>\n",
       "      <td>Ahmed</td>\n",
       "      <td>FP7</td>\n",
       "    </tr>\n",
       "    <tr>\n",
       "      <th>1</th>\n",
       "      <td>Baerveldt</td>\n",
       "      <td>Baerveldt</td>\n",
       "      <td>None</td>\n",
       "    </tr>\n",
       "    <tr>\n",
       "      <th>2</th>\n",
       "      <td>Baerveldt 350</td>\n",
       "      <td>Baerveldt</td>\n",
       "      <td>350</td>\n",
       "    </tr>\n",
       "    <tr>\n",
       "      <th>3</th>\n",
       "      <td>Cypass</td>\n",
       "      <td>CyPass</td>\n",
       "      <td>None</td>\n",
       "    </tr>\n",
       "    <tr>\n",
       "      <th>4</th>\n",
       "      <td>Express shunt</td>\n",
       "      <td>Ex-PRESS</td>\n",
       "      <td>None</td>\n",
       "    </tr>\n",
       "    <tr>\n",
       "      <th>5</th>\n",
       "      <td>iStent</td>\n",
       "      <td>iStent</td>\n",
       "      <td>None</td>\n",
       "    </tr>\n",
       "    <tr>\n",
       "      <th>6</th>\n",
       "      <td>Xen</td>\n",
       "      <td>Xen</td>\n",
       "      <td>None</td>\n",
       "    </tr>\n",
       "    <tr>\n",
       "      <th>7</th>\n",
       "      <td>iStent Inject</td>\n",
       "      <td>iStent</td>\n",
       "      <td>Inject</td>\n",
       "    </tr>\n",
       "    <tr>\n",
       "      <th>8</th>\n",
       "      <td>Hydrus</td>\n",
       "      <td>Hydrus</td>\n",
       "      <td>None</td>\n",
       "    </tr>\n",
       "  </tbody>\n",
       "</table>\n",
       "</div>"
      ],
      "text/plain": [
       "            note    gddtype gddmodel\n",
       "0      Ahmed FP7      Ahmed      FP7\n",
       "1      Baerveldt  Baerveldt     None\n",
       "2  Baerveldt 350  Baerveldt      350\n",
       "3         Cypass     CyPass     None\n",
       "4  Express shunt   Ex-PRESS     None\n",
       "5         iStent     iStent     None\n",
       "6            Xen        Xen     None\n",
       "7  iStent Inject     iStent   Inject\n",
       "8         Hydrus     Hydrus     None"
      ]
     },
     "execution_count": 34,
     "metadata": {},
     "output_type": "execute_result"
    }
   ],
   "source": [
    "df[\"gddtype\"], df[\"gddmodel\"]=zip(*df[\"note\"].apply(gddmodelfeatures))\n",
    "df"
   ]
  }
 ],
 "metadata": {
  "kernelspec": {
   "display_name": "Python 3",
   "language": "python",
   "name": "python3"
  },
  "language_info": {
   "codemirror_mode": {
    "name": "ipython",
    "version": 3
   },
   "file_extension": ".py",
   "mimetype": "text/x-python",
   "name": "python",
   "nbconvert_exporter": "python",
   "pygments_lexer": "ipython3",
   "version": "3.6.4"
  }
 },
 "nbformat": 4,
 "nbformat_minor": 2
}
