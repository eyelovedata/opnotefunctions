{
 "cells": [
  {
   "cell_type": "code",
   "execution_count": 2,
   "metadata": {},
   "outputs": [],
   "source": [
    "import re\n",
    "import pandas as pd \n",
    "import numpy as np\n",
    "from IPython.core.interactiveshell import InteractiveShell\n",
    "InteractiveShell.ast_node_interactivity = \"all\""
   ]
  },
  {
   "cell_type": "markdown",
   "metadata": {},
   "source": [
    "# Functions for detecting intraocular lens model and power from free text operative notes"
   ]
  },
  {
   "cell_type": "code",
   "execution_count": 11,
   "metadata": {},
   "outputs": [],
   "source": [
    "def iolpowerfeature(text): \n",
    "    try: \n",
    "        iolpower=re.findall('(?i)([1-9][0-9]?\\.[0|5])0?[\\s\\-]*d[iopter]?', text)[0]\n",
    "    except: \n",
    "        try: iolpower=re.findall('(?i)[\\s\\+\\-]([1-9][0-9]?)[\\s\\-]*diopter', text)[0]+\".0\"\n",
    "        except: \n",
    "            try: iolpower=re.findall('(?i)[\\s\\+\\-]([1-9][0-9]?)[\\s\\-]*D\\s', text)[0]+\".0\"\n",
    "            except: \n",
    "                try: iolpower=re.findall('[\\s\\+\\-]([1-9][0-9]?\\.[0|5])', text)[0]\n",
    "                except: iolpower=np.nan\n",
    "    return float(iolpower)\n",
    "\n",
    "def iolmodelfeatures(text): \n",
    "    alconiol=re.findall('(?i)([SMLC][ANVZXTC][1-7DA][5A10C34][TDWABMPU][0-9FSTCAMDO])', text)\n",
    "    amoiol=re.findall('(?i)(Z[CX]T[1-6][0257][05]|Z[CKLMX][BAR][0O]{2}|Z9002|ZA9003|AR40[ME]|PCB[0O]{2}|NXG1|Tecnis CL)', text)\n",
    "    bnliol=re.findall('(?i)(AO[12]UV|Crystalens|MX60|enVista|AT50T|BL1AT|Trulign|M160L|AO60|Akreos MICS|Akreos AO|Akreos|LI61A0|LI61SE|SofPort|iSert 2[35][01])', text)\n",
    "\n",
    "    if len(alconiol)>0: \n",
    "        iolpower=iolpowerfeature(text) \n",
    "        return (\"Alcon\", alconiol[0].upper(), iolpower)\n",
    "    elif len(amoiol)>0: \n",
    "        iolpower=iolpowerfeature(text) \n",
    "        if amoiol[0].upper()==\"ZCBOO\": \n",
    "            amoiol[0]=\"ZCB00\" #fix the common zcboo typo \n",
    "        return (\"AMO\", amoiol[0].upper(), iolpower)\n",
    "    elif len(bnliol)>0: \n",
    "        iolpower=iolpowerfeature(text)\n",
    "        return (\"Bausch and Lomb\", bnliol[0].upper(), iolpower)\n",
    "    else: \n",
    "        return (None, None, iolpowerfeature(text))"
   ]
  },
  {
   "cell_type": "markdown",
   "metadata": {},
   "source": [
    "IOL dioptric power is extracted from notes using regular expressions capturing numeric expressions in the form of plausible IOL powers-  e.g., 21.5 or 16.0 etc. potentially followed by “diopter” or an indicator that the preceding numeric expression refers to dioptric power, e.g. “21.5 D” or “16.0 diopter”, but not “7.0mm”. IOL model codes from the major manufacturers of Alcon, AMO, and Bausch and Lomb are extracted similarly from regular expressions capturing plausible IOL model codes, e.g. “SN60WF”, “SA60AT”, or “ZCB00”, “ZXR00”, etc."
   ]
  },
  {
   "cell_type": "markdown",
   "metadata": {},
   "source": [
    "List of IOL's recognized: \n",
    "\n",
    "Alcon\t\t\n",
    "\tReSTOR\tSV25T0\n",
    "\tReSTOR\tSN6AD1\n",
    "\tReSTOR\tSN6AD3\n",
    "\tReSTOR\tMN6AD1\n",
    "\tReSTOR\tSV25T2\n",
    "\tReSTOR\tSV25T3\n",
    "\tReSTOR\tSV25T4\n",
    "\tReSTOR\tSV25T5\n",
    "\tReSTOR\tSV25T6\n",
    "\tReSTOR\tSND1T2\n",
    "\tReSTOR\tSND1T3\n",
    "\tReSTOR\tSND1T4\n",
    "\tReSTOR\tSND1T5\n",
    "\tReSTOR\tSND1T6\n",
    "\tAcrySof IQ\tSN6AT2\n",
    "\tAcrySof IQ\tSN6AT3\n",
    "\tAcrySof IQ\tSN6AT4\n",
    "\tAcrySof IQ\tSN6AT5\n",
    "\tAcrySof IQ\tSN6AT6\n",
    "\tAcrySof IQ\tSN6AT7\n",
    "\tAcrySof IQ\tSN6AT8\n",
    "\tAcrySof IQ\tSN6AT9\n",
    "\tAcrySof IQ\tSN60WF\n",
    "\tAcrySof IQ\tSN6CWS\n",
    "\tAcrySof Natural\tSN60AT\n",
    "\tAcrySof Natural\tSA60AT\n",
    "\tAcrySof Multipiece\tMN60AC\n",
    "\tAcrySof Multipiece\tMA30AC\n",
    "\tAcrySof Multipiece\tMA60AC\n",
    "\tAcrySof Multipiece\tMA60BM\n",
    "\tAcrySof Multipiece\tMN60MA\n",
    "\tAcrySof Multipiece\tMA60MA\n",
    "\t\tMZ40BD\n",
    "\t\tLX10BD\n",
    "\t\tMZ30BD\n",
    "\t\tMZ60BD\n",
    "\t\tMC50BD\n",
    "\t\tCZ70BD\n",
    "\t\tMZ60MD\n",
    "\t\tMZ60PD\n",
    "\t\tMTA3UO\n",
    "\t\tMTA4UO\n",
    "\t\tMTA5UO\n",
    "        \n",
    "AMO/J&J Vision \t\n",
    "\tTecnis\tZCT150\n",
    "\tTecnis\tZCT225\n",
    "\tTecnis\tZCT300\n",
    "\tTecnis\tZCT400\n",
    "\tTecnis\tZCT450\n",
    "\tTecnis\tZCT525\n",
    "\tTecnis\tZCT600\n",
    "\tTecnis\tZCB00\n",
    "\tTecnis\tZKB00\n",
    "\tTecnis\tZLB00\n",
    "\tTecnis\tZMB00\n",
    "\tTecnis\tZMA00\n",
    "\tSymfony\tZXR00\n",
    "\tSymfony\tZXT150\n",
    "\tSymfony\tZXT225\n",
    "\tSymfony\tZXT300\n",
    "\tSymfony\tZXT375\n",
    "\tTecnis iTec\tPCB00\n",
    "\tTecnis\tZA9003\n",
    "\tTecnis CL\tZ9002\n",
    "\tSensar\tAR40M\n",
    "\tSensar\tAR40E\n",
    "\tSensar\tAR40e\n",
    "\tReZoom\tNXG1\n",
    "    \n",
    "Bausch and Lomb \t\n",
    "\tCrystalens AO\tAO1UV\n",
    "\tCrystalens AO \tAO2UV\n",
    "\tenVista\tMX60\n",
    "\tTrulign\tBL1UT\n",
    "\tTrulign\tBL1UT\n",
    "\tTrulign\tBL1UT\n",
    "\tTrulign\tAT50T\n",
    "\tTrulign\tAT50T\n",
    "\tTrulign\tAT50T\n",
    "\tTrulign\tBL1AT\n",
    "\tTrulign\tBL1AT\n",
    "\tTrulign\tBL1AT\n",
    "\tiSert\t230\n",
    "\tiSert\t231\n",
    "\tiSert\t250\n",
    "\tiSert\t251\n",
    "\tAkreos MICS\tM160L\n",
    "\tAkreos AO\tAO60\n",
    "\tSofPort\tLI61A0\n",
    "\tSofPort\tLI61SE\n"
   ]
  },
  {
   "cell_type": "markdown",
   "metadata": {},
   "source": [
    "# Examples"
   ]
  },
  {
   "cell_type": "markdown",
   "metadata": {},
   "source": [
    "## Example simple code"
   ]
  },
  {
   "cell_type": "code",
   "execution_count": 8,
   "metadata": {},
   "outputs": [
    {
     "data": {
      "text/plain": [
       "23.0"
      ]
     },
     "execution_count": 8,
     "metadata": {},
     "output_type": "execute_result"
    },
    {
     "data": {
      "text/plain": [
       "('Alcon', 'SN60WF', 23.0)"
      ]
     },
     "execution_count": 8,
     "metadata": {},
     "output_type": "execute_result"
    },
    {
     "data": {
      "text/plain": [
       "('AMO', 'ZCB00', 19.0)"
      ]
     },
     "execution_count": 8,
     "metadata": {},
     "output_type": "execute_result"
    },
    {
     "data": {
      "text/plain": [
       "('Alcon', 'MTA4UO', 14.0)"
      ]
     },
     "execution_count": 8,
     "metadata": {},
     "output_type": "execute_result"
    }
   ],
   "source": [
    "#example simple code for how this works \n",
    "iolpowerfeature(\"1. Descemet's membrane, 2.5 mL injected rotated 90 degrees used a 7.0 malyugin ring model 123345.50 model Tecnis Z9002 +23 diopters \")\n",
    "iolmodelfeatures(\"SN60WF 23.0D\")\n",
    "iolmodelfeatures(\"ZCB00 19.0D\")\n",
    "iolmodelfeatures(\"MTA4UO 14.0D\")"
   ]
  },
  {
   "cell_type": "markdown",
   "metadata": {},
   "source": [
    "## Example code for how this might work on a pandas dataframe containing a column of operative reports"
   ]
  },
  {
   "cell_type": "code",
   "execution_count": 9,
   "metadata": {},
   "outputs": [
    {
     "data": {
      "text/html": [
       "<div>\n",
       "<style scoped>\n",
       "    .dataframe tbody tr th:only-of-type {\n",
       "        vertical-align: middle;\n",
       "    }\n",
       "\n",
       "    .dataframe tbody tr th {\n",
       "        vertical-align: top;\n",
       "    }\n",
       "\n",
       "    .dataframe thead th {\n",
       "        text-align: right;\n",
       "    }\n",
       "</style>\n",
       "<table border=\"1\" class=\"dataframe\">\n",
       "  <thead>\n",
       "    <tr style=\"text-align: right;\">\n",
       "      <th></th>\n",
       "      <th>note</th>\n",
       "    </tr>\n",
       "  </thead>\n",
       "  <tbody>\n",
       "    <tr>\n",
       "      <th>0</th>\n",
       "      <td>SN60WF 23.0</td>\n",
       "    </tr>\n",
       "    <tr>\n",
       "      <th>1</th>\n",
       "      <td>ZCB00 19.0D</td>\n",
       "    </tr>\n",
       "    <tr>\n",
       "      <th>2</th>\n",
       "      <td>MTA4UO 14.0 diopter</td>\n",
       "    </tr>\n",
       "  </tbody>\n",
       "</table>\n",
       "</div>"
      ],
      "text/plain": [
       "                  note\n",
       "0          SN60WF 23.0\n",
       "1          ZCB00 19.0D\n",
       "2  MTA4UO 14.0 diopter"
      ]
     },
     "execution_count": 9,
     "metadata": {},
     "output_type": "execute_result"
    }
   ],
   "source": [
    "#example code for how this might work on a pandas dataframe containing a column of operative reports \n",
    "df=pd.DataFrame([\"SN60WF 23.0\", \n",
    " \"ZCB00 19.0D\",\n",
    "\"MTA4UO 14.0 diopter\"], columns=[\"note\"])\n",
    "df"
   ]
  },
  {
   "cell_type": "code",
   "execution_count": 10,
   "metadata": {},
   "outputs": [
    {
     "data": {
      "text/html": [
       "<div>\n",
       "<style scoped>\n",
       "    .dataframe tbody tr th:only-of-type {\n",
       "        vertical-align: middle;\n",
       "    }\n",
       "\n",
       "    .dataframe tbody tr th {\n",
       "        vertical-align: top;\n",
       "    }\n",
       "\n",
       "    .dataframe thead th {\n",
       "        text-align: right;\n",
       "    }\n",
       "</style>\n",
       "<table border=\"1\" class=\"dataframe\">\n",
       "  <thead>\n",
       "    <tr style=\"text-align: right;\">\n",
       "      <th></th>\n",
       "      <th>note</th>\n",
       "      <th>iolbrand</th>\n",
       "      <th>iolmodel</th>\n",
       "      <th>iolpower</th>\n",
       "    </tr>\n",
       "  </thead>\n",
       "  <tbody>\n",
       "    <tr>\n",
       "      <th>0</th>\n",
       "      <td>SN60WF 23.0</td>\n",
       "      <td>Alcon</td>\n",
       "      <td>SN60WF</td>\n",
       "      <td>23.0</td>\n",
       "    </tr>\n",
       "    <tr>\n",
       "      <th>1</th>\n",
       "      <td>ZCB00 19.0D</td>\n",
       "      <td>AMO</td>\n",
       "      <td>ZCB00</td>\n",
       "      <td>19.0</td>\n",
       "    </tr>\n",
       "    <tr>\n",
       "      <th>2</th>\n",
       "      <td>MTA4UO 14.0 diopter</td>\n",
       "      <td>Alcon</td>\n",
       "      <td>MTA4UO</td>\n",
       "      <td>14.0</td>\n",
       "    </tr>\n",
       "  </tbody>\n",
       "</table>\n",
       "</div>"
      ],
      "text/plain": [
       "                  note iolbrand iolmodel  iolpower\n",
       "0          SN60WF 23.0    Alcon   SN60WF      23.0\n",
       "1          ZCB00 19.0D      AMO    ZCB00      19.0\n",
       "2  MTA4UO 14.0 diopter    Alcon   MTA4UO      14.0"
      ]
     },
     "execution_count": 10,
     "metadata": {},
     "output_type": "execute_result"
    }
   ],
   "source": [
    "df[\"iolbrand\"], df[\"iolmodel\"], df[\"iolpower\"] = zip(*df[\"note\"].apply(iolmodelfeatures))\n",
    "df"
   ]
  }
 ],
 "metadata": {
  "kernelspec": {
   "display_name": "Python 3",
   "language": "python",
   "name": "python3"
  },
  "language_info": {
   "codemirror_mode": {
    "name": "ipython",
    "version": 3
   },
   "file_extension": ".py",
   "mimetype": "text/x-python",
   "name": "python",
   "nbconvert_exporter": "python",
   "pygments_lexer": "ipython3",
   "version": "3.6.4"
  }
 },
 "nbformat": 4,
 "nbformat_minor": 2
}
