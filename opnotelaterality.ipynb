{
 "cells": [
  {
   "cell_type": "code",
   "execution_count": 7,
   "metadata": {},
   "outputs": [],
   "source": [
    "import re\n",
    "import pandas as pd \n",
    "import numpy as np\n",
    "from IPython.core.interactiveshell import InteractiveShell\n",
    "InteractiveShell.ast_node_interactivity = \"all\""
   ]
  },
  {
   "cell_type": "markdown",
   "metadata": {},
   "source": [
    "# Functions for detecting eye laterality from free text operative notes"
   ]
  },
  {
   "cell_type": "code",
   "execution_count": 2,
   "metadata": {},
   "outputs": [],
   "source": [
    "def leftcount(text):\n",
    "    '''A  regular expression to detect variations of Left/OS and return their count'''\n",
    "    lefteye=re.compile('(?i)(LEFT\\s*EYE|\\s+OS\\s+|,\\s+OS|[\\s_]+L_*\\s+eye\\s+|(,\\s+LEFT)|(LEFT,)|(_+LEFT_+))') \n",
    "    return len(lefteye.findall(text))\n",
    "def rightcount(text):\n",
    "    '''A regular expression to detect variations of Right/OD and return their count'''\n",
    "    righteye=re.compile('(?i)(RIGHT\\s*EYE|\\s+OD\\s+|,\\s+OD|[\\s_]+R_*\\s+eye\\s+|(,\\s+RIGHT)|(RIGHT,)|(_+RIGHT_+))') \n",
    "    return len(righteye.findall(text))\n",
    "def laterality(left, right): \n",
    "    '''returns 0 if laterality is right eye, 1 if laterality is left eye '''\n",
    "    if left>right: \n",
    "        return 1\n",
    "    if right>left: \n",
    "        return 0    \n",
    "    \n",
    "## Of note, this has only been tested on operative notes from a single academic center for cataract surgeries and glaucoma surgeries. These types of surgeries are routinely unilateral. \n",
    "## A simple algorithm such as this would not work on operations which are routinely or occasionally bilateral, such as oculoplastic surgery. \n",
    "## Such an algorithm would then have to detect which surgery was performed on which eye, which would require further development "
   ]
  },
  {
   "cell_type": "markdown",
   "metadata": {},
   "source": [
    "# Examples"
   ]
  },
  {
   "cell_type": "markdown",
   "metadata": {},
   "source": [
    "## Example simple code"
   ]
  },
  {
   "cell_type": "code",
   "execution_count": 6,
   "metadata": {},
   "outputs": [
    {
     "data": {
      "text/plain": [
       "0"
      ]
     },
     "execution_count": 6,
     "metadata": {},
     "output_type": "execute_result"
    },
    {
     "data": {
      "text/plain": [
       "2"
      ]
     },
     "execution_count": 6,
     "metadata": {},
     "output_type": "execute_result"
    }
   ],
   "source": [
    "#example simple code for how this works \n",
    "leftcount(\"Diagnosis: Cataract, right eye Procedure: Cataract surgery with intraocular lens implantation, right eye\")\n",
    "rightcount(\"Diagnosis: Cataract, right eye Procedure: Cataract surgery with intraocular lens implantation, right eye\")"
   ]
  },
  {
   "cell_type": "markdown",
   "metadata": {},
   "source": [
    "## Example code for how this might work on a pandas dataframe containing a column of operative reports"
   ]
  },
  {
   "cell_type": "code",
   "execution_count": 16,
   "metadata": {},
   "outputs": [
    {
     "data": {
      "text/html": [
       "<div>\n",
       "<style scoped>\n",
       "    .dataframe tbody tr th:only-of-type {\n",
       "        vertical-align: middle;\n",
       "    }\n",
       "\n",
       "    .dataframe tbody tr th {\n",
       "        vertical-align: top;\n",
       "    }\n",
       "\n",
       "    .dataframe thead th {\n",
       "        text-align: right;\n",
       "    }\n",
       "</style>\n",
       "<table border=\"1\" class=\"dataframe\">\n",
       "  <thead>\n",
       "    <tr style=\"text-align: right;\">\n",
       "      <th></th>\n",
       "      <th>note</th>\n",
       "    </tr>\n",
       "  </thead>\n",
       "  <tbody>\n",
       "    <tr>\n",
       "      <th>0</th>\n",
       "      <td>Diagnosis: Cataract, right eye Procedure: Cata...</td>\n",
       "    </tr>\n",
       "    <tr>\n",
       "      <th>1</th>\n",
       "      <td>Diagnosis: Cataract, left eye Procedure: Catar...</td>\n",
       "    </tr>\n",
       "    <tr>\n",
       "      <th>2</th>\n",
       "      <td>Diagnosis: Cataract, right eye Procedure: Cata...</td>\n",
       "    </tr>\n",
       "  </tbody>\n",
       "</table>\n",
       "</div>"
      ],
      "text/plain": [
       "                                                note\n",
       "0  Diagnosis: Cataract, right eye Procedure: Cata...\n",
       "1  Diagnosis: Cataract, left eye Procedure: Catar...\n",
       "2  Diagnosis: Cataract, right eye Procedure: Cata..."
      ]
     },
     "execution_count": 16,
     "metadata": {},
     "output_type": "execute_result"
    }
   ],
   "source": [
    "#example code for how this might work on a pandas dataframe containing a column of operative reports \n",
    "df=pd.DataFrame([\"Diagnosis: Cataract, right eye Procedure: Cataract surgery with intraocular lens implantation, right eye\", \n",
    " \"Diagnosis: Cataract, left eye Procedure: Cataract surgery with intraocular lens implantation, left eye\",\n",
    "\"Diagnosis: Cataract, right eye Procedure: Cataract surgery with intraocular lens implantation, left eye This is a surgeon dictated mistake\"], columns=[\"note\"])\n",
    "df"
   ]
  },
  {
   "cell_type": "code",
   "execution_count": 17,
   "metadata": {},
   "outputs": [
    {
     "data": {
      "text/html": [
       "<div>\n",
       "<style scoped>\n",
       "    .dataframe tbody tr th:only-of-type {\n",
       "        vertical-align: middle;\n",
       "    }\n",
       "\n",
       "    .dataframe tbody tr th {\n",
       "        vertical-align: top;\n",
       "    }\n",
       "\n",
       "    .dataframe thead th {\n",
       "        text-align: right;\n",
       "    }\n",
       "</style>\n",
       "<table border=\"1\" class=\"dataframe\">\n",
       "  <thead>\n",
       "    <tr style=\"text-align: right;\">\n",
       "      <th></th>\n",
       "      <th>note</th>\n",
       "      <th>right</th>\n",
       "      <th>left</th>\n",
       "    </tr>\n",
       "  </thead>\n",
       "  <tbody>\n",
       "    <tr>\n",
       "      <th>0</th>\n",
       "      <td>Diagnosis: Cataract, right eye Procedure: Cata...</td>\n",
       "      <td>2</td>\n",
       "      <td>0</td>\n",
       "    </tr>\n",
       "    <tr>\n",
       "      <th>1</th>\n",
       "      <td>Diagnosis: Cataract, left eye Procedure: Catar...</td>\n",
       "      <td>0</td>\n",
       "      <td>2</td>\n",
       "    </tr>\n",
       "    <tr>\n",
       "      <th>2</th>\n",
       "      <td>Diagnosis: Cataract, right eye Procedure: Cata...</td>\n",
       "      <td>1</td>\n",
       "      <td>1</td>\n",
       "    </tr>\n",
       "  </tbody>\n",
       "</table>\n",
       "</div>"
      ],
      "text/plain": [
       "                                                note  right  left\n",
       "0  Diagnosis: Cataract, right eye Procedure: Cata...      2     0\n",
       "1  Diagnosis: Cataract, left eye Procedure: Catar...      0     2\n",
       "2  Diagnosis: Cataract, right eye Procedure: Cata...      1     1"
      ]
     },
     "execution_count": 17,
     "metadata": {},
     "output_type": "execute_result"
    }
   ],
   "source": [
    "df[\"right\"]=df[\"note\"].apply(rightcount)\n",
    "df[\"left\"]=df[\"note\"].apply(leftcount)\n",
    "df"
   ]
  },
  {
   "cell_type": "code",
   "execution_count": 20,
   "metadata": {},
   "outputs": [
    {
     "data": {
      "text/html": [
       "<div>\n",
       "<style scoped>\n",
       "    .dataframe tbody tr th:only-of-type {\n",
       "        vertical-align: middle;\n",
       "    }\n",
       "\n",
       "    .dataframe tbody tr th {\n",
       "        vertical-align: top;\n",
       "    }\n",
       "\n",
       "    .dataframe thead th {\n",
       "        text-align: right;\n",
       "    }\n",
       "</style>\n",
       "<table border=\"1\" class=\"dataframe\">\n",
       "  <thead>\n",
       "    <tr style=\"text-align: right;\">\n",
       "      <th></th>\n",
       "      <th>note</th>\n",
       "      <th>right</th>\n",
       "      <th>left</th>\n",
       "      <th>laterality</th>\n",
       "    </tr>\n",
       "  </thead>\n",
       "  <tbody>\n",
       "    <tr>\n",
       "      <th>0</th>\n",
       "      <td>Diagnosis: Cataract, right eye Procedure: Cata...</td>\n",
       "      <td>2</td>\n",
       "      <td>0</td>\n",
       "      <td>0.0</td>\n",
       "    </tr>\n",
       "    <tr>\n",
       "      <th>1</th>\n",
       "      <td>Diagnosis: Cataract, left eye Procedure: Catar...</td>\n",
       "      <td>0</td>\n",
       "      <td>2</td>\n",
       "      <td>1.0</td>\n",
       "    </tr>\n",
       "    <tr>\n",
       "      <th>2</th>\n",
       "      <td>Diagnosis: Cataract, right eye Procedure: Cata...</td>\n",
       "      <td>1</td>\n",
       "      <td>1</td>\n",
       "      <td>NaN</td>\n",
       "    </tr>\n",
       "  </tbody>\n",
       "</table>\n",
       "</div>"
      ],
      "text/plain": [
       "                                                note  right  left  laterality\n",
       "0  Diagnosis: Cataract, right eye Procedure: Cata...      2     0         0.0\n",
       "1  Diagnosis: Cataract, left eye Procedure: Catar...      0     2         1.0\n",
       "2  Diagnosis: Cataract, right eye Procedure: Cata...      1     1         NaN"
      ]
     },
     "execution_count": 20,
     "metadata": {},
     "output_type": "execute_result"
    }
   ],
   "source": [
    "df[\"laterality\"]=df[[\"left\", \"right\"]].apply(lambda x: laterality(*x), axis=1) \n",
    "df"
   ]
  },
  {
   "cell_type": "code",
   "execution_count": null,
   "metadata": {},
   "outputs": [],
   "source": []
  }
 ],
 "metadata": {
  "kernelspec": {
   "display_name": "Python 3",
   "language": "python",
   "name": "python3"
  },
  "language_info": {
   "codemirror_mode": {
    "name": "ipython",
    "version": 3
   },
   "file_extension": ".py",
   "mimetype": "text/x-python",
   "name": "python",
   "nbconvert_exporter": "python",
   "pygments_lexer": "ipython3",
   "version": "3.6.4"
  }
 },
 "nbformat": 4,
 "nbformat_minor": 2
}
